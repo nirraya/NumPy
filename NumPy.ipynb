{
 "cells": [
  {
   "cell_type": "markdown",
   "metadata": {
    "id": "SdKQaVRG_3Ms"
   },
   "source": [
    "# **Getting Started with NumPy**"
   ]
  },
  {
   "cell_type": "markdown",
   "metadata": {
    "id": "eqfcVJwjAbls"
   },
   "source": [
    "Hey everyone! It's me **Nir Bahadur Raya**. It's February 26, 2023. \n",
    "\n",
    "This notebook is a compilation of all the concepts related to Numpy that I learned and revised. The purpose of this notebook was to serve as a revision guide for me to review and solidify my understanding of Numpy. It can also serve as a quick reference guide for anyone looking to learn or refresh their knowledge of Numpy."
   ]
  },
  {
   "cell_type": "markdown",
   "metadata": {
    "id": "4rzn9Yf7B5NI"
   },
   "source": [
    "**NumPy** is a Python library that provides support for large, multi-dimensional arrays and matrices, along with a large collection of high-level mathematical functions to operate on these arrays. NumPy is a fundamental library for data science and scientific computing with Python, as it provides the foundation for other libraries such as Pandas, Matplotlib, and SciPy.\n",
    "\n",
    "NumPy arrays are similar to Python lists, but they have several advantages, such as being more memory-efficient, faster, and more convenient for mathematical operations.The following example demonstrates the advantage of using NumPy over pure Python for numerical computations. You don't need to have any prior knowledge of NumPy to understand the example. The output will show you how fast NumPy calculations can be compared to pure Python calculations. However, keep in mind that the speed of computations also depends on the hardware you're using, so your results may vary."
   ]
  },
  {
   "cell_type": "code",
   "execution_count": 1,
   "metadata": {
    "id": "4V8omQaECpv_"
   },
   "outputs": [
    {
     "name": "stdout",
     "output_type": "stream",
     "text": [
      "Time taken by NumPy: 0.004288434982299805\n",
      "Time taken by Python: 0.3609745502471924\n",
      "NumPy is 84.1739589703675 times faster than Python.\n"
     ]
    }
   ],
   "source": [
    "import numpy as np\n",
    "import time\n",
    "\n",
    "# create a large array\n",
    "n = 1000000\n",
    "a = np.random.rand(n)\n",
    "b = np.random.rand(n)\n",
    "c = np.zeros(n)\n",
    "\n",
    "# measure the time to perform element-wise multiplication using NumPy\n",
    "start_time = time.time()\n",
    "c = a * b\n",
    "end_time = time.time()\n",
    "numpy_time = end_time - start_time\n",
    "print(\"Time taken by NumPy:\", numpy_time)\n",
    "\n",
    "# measure the time to perform element-wise multiplication using pure Python\n",
    "start_time = time.time()\n",
    "for i in range(n):\n",
    "    c[i] = a[i] * b[i]\n",
    "end_time = time.time()\n",
    "python_time = end_time - start_time\n",
    "print(\"Time taken by Python:\", python_time)\n",
    "\n",
    "# compare the times\n",
    "print(\"NumPy is\", python_time/numpy_time, \"times faster than Python.\")\n"
   ]
  },
  {
   "cell_type": "markdown",
   "metadata": {
    "id": "GJOcvU4IDoBO"
   },
   "source": [
    "**1. Installing NumPy**\n",
    "\n",
    "NumPy is not included in Python by default, so you'll need to install it separately. You can use pip, the package installer for Python, to install NumPy by running the following command in your terminal or command prompt:"
   ]
  },
  {
   "cell_type": "code",
   "execution_count": 2,
   "metadata": {
    "id": "v8FaIO-rD09u"
   },
   "outputs": [],
   "source": [
    "# pip install numpy"
   ]
  },
  {
   "cell_type": "markdown",
   "metadata": {
    "id": "Yzc0Kvz7Fu42"
   },
   "source": [
    "NumPy is already pre-installed in Google Colab. So, you don't need to install it separately. You can simply import NumPy and start using its functions in your code cells.\n",
    "\n",
    "When you import NumPy, you can assign it an alias 'np' so that you can refer to it using 'np' instead of typing 'numpy' every time you want to use a function or an object from NumPy. This can be done by:"
   ]
  },
  {
   "cell_type": "code",
   "execution_count": 3,
   "metadata": {
    "id": "NHFejTnJFvnP"
   },
   "outputs": [],
   "source": [
    "import numpy as np"
   ]
  },
  {
   "cell_type": "markdown",
   "metadata": {
    "id": "jnY2HWWpGiOP"
   },
   "source": [
    "**2. Creating NumPy Arrays**\n",
    "\n",
    "The primary data structure in NumPy is the ndarray (short for \"n-dimensional array\"), which is a multi-dimensional container for homogeneous data. You can create an ndarray using the np.array() function, like this:"
   ]
  },
  {
   "cell_type": "code",
   "execution_count": 4,
   "metadata": {
    "id": "yycbXj2bGWMN"
   },
   "outputs": [],
   "source": [
    "a = np.array([1, 2, 3])  # 1D array\n",
    "b = np.array([[1, 2, 3], [4, 5, 6]])  # 2D array\n",
    "c = np.array([[[1, 2], [3, 4]], [[5, 6], [7, 8]]])  # 3D array"
   ]
  },
  {
   "cell_type": "markdown",
   "metadata": {
    "id": "SQNM2tm0HIHj"
   },
   "source": [
    "Here, we're creating 1D, 2D, and 3D arrays a, b, and c, respectively. Note that the arrays are homogeneous (i.e., they contain elements of the same data type) and that the dimensions of the arrays are specified using nested lists."
   ]
  },
  {
   "cell_type": "markdown",
   "metadata": {
    "id": "Uyi3UrWNHOAT"
   },
   "source": [
    "**3. Array Attributes**\n",
    "\n",
    "NumPy arrays have several attributes that you can use to get information about the array, such as its shape, size, and data type:"
   ]
  },
  {
   "cell_type": "code",
   "execution_count": 5,
   "metadata": {
    "id": "L5Yh9f4VHJQ7"
   },
   "outputs": [
    {
     "name": "stdout",
     "output_type": "stream",
     "text": [
      "(3,)\n",
      "3\n",
      "int32\n"
     ]
    }
   ],
   "source": [
    "a = np.array([1, 2, 3])\n",
    "print(a.shape)  # prints \"(3,)\"\n",
    "print(a.size)   # prints \"3\"\n",
    "print(a.dtype)  # prints \"int64\""
   ]
  },
  {
   "cell_type": "markdown",
   "metadata": {
    "id": "kB5toF3HHYEs"
   },
   "source": [
    "Here, we're printing the shape, size, and data type of the 1D array a."
   ]
  },
  {
   "cell_type": "markdown",
   "metadata": {
    "id": "cbACpPkxHm5_"
   },
   "source": [
    "**4. Array Indexing**\n",
    "\n",
    "You can access individual elements of a NumPy array using indexing, which works similar to indexing in lists:"
   ]
  },
  {
   "cell_type": "code",
   "execution_count": 6,
   "metadata": {
    "id": "Nvco1k1jHebG"
   },
   "outputs": [
    {
     "name": "stdout",
     "output_type": "stream",
     "text": [
      "1\n",
      "3\n",
      "1\n",
      "6\n"
     ]
    }
   ],
   "source": [
    "a = np.array([1, 2, 3])\n",
    "print(a[0])  # prints \"1\"\n",
    "print(a[-1])  # prints \"3\"\n",
    "\n",
    "b = np.array([[1, 2, 3], [4, 5, 6]])\n",
    "print(b[0, 0])  # prints \"1\"\n",
    "print(b[1, 2])  # prints \"6\""
   ]
  },
  {
   "cell_type": "markdown",
   "metadata": {
    "id": "bvvq_FVqH3Il"
   },
   "source": [
    "Here, we're accessing individual elements of the 1D array 'a' and the 2D array 'b' using indexing."
   ]
  },
  {
   "cell_type": "markdown",
   "metadata": {
    "id": "BJb_zjdmH5MD"
   },
   "source": [
    "**5. Array Slicing**\n",
    "\n",
    "You can also extract sub-arrays from a NumPy array using slicing, which works similar to slicing in lists:"
   ]
  },
  {
   "cell_type": "code",
   "execution_count": 7,
   "metadata": {
    "colab": {
     "base_uri": "https://localhost:8080/"
    },
    "id": "UzCwPFpJHyak",
    "outputId": "380a93cf-6489-4f4d-c6ec-53ba3edec173"
   },
   "outputs": [
    {
     "name": "stdout",
     "output_type": "stream",
     "text": [
      "[2 3 4]\n",
      "[[2 3]\n",
      " [5 6]]\n"
     ]
    }
   ],
   "source": [
    "a = np.array([1, 2, 3, 4, 5])\n",
    "print(a[1:4])  # prints \"[2 3 4]\"\n",
    "\n",
    "b = np.array([[1, 2, 3], [4, 5, 6], [7, 8, 9]])\n",
    "print(b[:2, 1:])  # prints \"[[2 3]\n",
    "                  #          [5 6]]\""
   ]
  },
  {
   "cell_type": "markdown",
   "metadata": {
    "id": "vuTnVTR5Ic5q"
   },
   "source": [
    "Here, we're extracting sub-arrays from the 1D array 'a' and the 2D array 'b'. The syntax for slicing is array[start:end:step], where start and end specify the range of indices to include (end is not inclusive), and step specifies the step size between indices. You can also use negative indices to count from the end of the array. In the example above, we're slicing a to include elements with indices 1, 2, and 3, and we're slicing b to include the first two rows and the second and third columns.\n",
    "\n",
    "You can also assign values to a slice of an array:"
   ]
  },
  {
   "cell_type": "code",
   "execution_count": 8,
   "metadata": {
    "colab": {
     "base_uri": "https://localhost:8080/"
    },
    "id": "iXPV5CuhIFkK",
    "outputId": "6e75855c-6fd4-4185-9d6b-0300a1f8a581"
   },
   "outputs": [
    {
     "name": "stdout",
     "output_type": "stream",
     "text": [
      "[ 1 10 11 12  5]\n"
     ]
    }
   ],
   "source": [
    "a[1:4] = np.array([10, 11, 12])\n",
    "print(a)  # prints \"[1 10 11 12 5]\""
   ]
  },
  {
   "cell_type": "markdown",
   "metadata": {
    "id": "6U8L5IgxIosd"
   },
   "source": [
    "Here, we're assigning new values to the slice of 'a' with indices 1, 2, and 3.\n",
    "\n",
    "Note that when you slice an array, NumPy returns a view of the original array, not a copy. This means that if you modify the view, the original array will also be modified. If you want to create a copy of an array, you can use the 'copy()' method:"
   ]
  },
  {
   "cell_type": "code",
   "execution_count": 9,
   "metadata": {
    "colab": {
     "base_uri": "https://localhost:8080/"
    },
    "id": "MROHv6RVIjzH",
    "outputId": "d9596ac2-34cf-4fb6-a8aa-0b7c7f9272cb"
   },
   "outputs": [
    {
     "name": "stdout",
     "output_type": "stream",
     "text": [
      "[ 1 10  3  4  5]\n",
      "[10  3  4]\n",
      "[1 2 3 4 5]\n",
      "[10  3  4]\n"
     ]
    }
   ],
   "source": [
    "a = np.array([1, 2, 3, 4, 5])\n",
    "b=a[1:4]\n",
    "b[0]=10\n",
    "print(a)    # prints \"[1 10 3 4 5]\"\n",
    "print(b)    # prints \"[10  3  4]\"\"\n",
    "a = np.array([1, 2, 3, 4, 5])\n",
    "b = a[1:4].copy()\n",
    "b[0] = 10\n",
    "print(a)  # prints \"[1 2 3 4 5]\"\n",
    "print(b)  # prints \"[10 3 4]\""
   ]
  },
  {
   "cell_type": "markdown",
   "metadata": {
    "id": "FaQOzhFDJuZx"
   },
   "source": [
    "Here, we're creating a copy of the slice of 'a' with indices 1, 2, and 3, and modifying the copy without affecting the original array 'a'."
   ]
  },
  {
   "cell_type": "markdown",
   "metadata": {
    "id": "KBSq_VZIJ6KB"
   },
   "source": [
    "**6. Array Reshaping**\n",
    "\n",
    "You can reshape a NumPy array using the 'reshape()' method, which returns a new array with the same data but a new shape:"
   ]
  },
  {
   "cell_type": "code",
   "execution_count": 10,
   "metadata": {
    "colab": {
     "base_uri": "https://localhost:8080/"
    },
    "id": "Sej5kcBkIs_w",
    "outputId": "83675eb1-ec8c-41de-afd2-5a5f529e6695"
   },
   "outputs": [
    {
     "name": "stdout",
     "output_type": "stream",
     "text": [
      "[[1 2 3]\n",
      " [4 5 6]]\n"
     ]
    }
   ],
   "source": [
    "a = np.array([1, 2, 3, 4, 5, 6])\n",
    "b = a.reshape(2, 3)  # reshape to 2x3 array\n",
    "print(b)\n",
    "# prints \"[[1 2 3]\n",
    "#          [4 5 6]]\""
   ]
  },
  {
   "cell_type": "markdown",
   "metadata": {
    "id": "rkbeVJJOKGo_"
   },
   "source": [
    "Here, we're reshaping the 1D array 'a' into a 2D array 'b' with a shape of (2, 3)."
   ]
  },
  {
   "cell_type": "markdown",
   "metadata": {
    "id": "ZTl0EkJ_KKqv"
   },
   "source": [
    "**7. Array Broadcasting**\n",
    "\n",
    "NumPy arrays can be broadcasted to perform element-wise operations even if they don't have the same shape. The smaller array is broadcasted to match the shape of the larger array:"
   ]
  },
  {
   "cell_type": "code",
   "execution_count": 11,
   "metadata": {
    "colab": {
     "base_uri": "https://localhost:8080/"
    },
    "id": "c33L-qXwJ_eg",
    "outputId": "4dab992e-be5f-4be5-f08a-2b39d049edb2"
   },
   "outputs": [
    {
     "name": "stdout",
     "output_type": "stream",
     "text": [
      "[[2 4 6]\n",
      " [5 7 9]]\n"
     ]
    }
   ],
   "source": [
    "a = np.array([1, 2, 3])\n",
    "b = np.array([[1, 2, 3], [4, 5, 6]])\n",
    "c = a + b\n",
    "print(c)\n",
    "# prints \"[[2 4 6]\n",
    "#          [5 7 9]]\"\n"
   ]
  },
  {
   "cell_type": "markdown",
   "metadata": {
    "id": "ZfMHHLskKYKf"
   },
   "source": [
    "Here, we're adding the 1D array 'a' to the 2D array 'b', and NumPy is automatically broadcasting the smaller array 'a' to match the shape of 'b'."
   ]
  },
  {
   "cell_type": "markdown",
   "metadata": {
    "id": "mPTyPDVdLa4J"
   },
   "source": [
    "**8. Array Concatenation**\n",
    "\n",
    "You can concatenate two or more NumPy arrays along a given axis using the 'concatenate()' function or the 'vstack()' and 'hstack()' functions:"
   ]
  },
  {
   "cell_type": "code",
   "execution_count": 12,
   "metadata": {
    "colab": {
     "base_uri": "https://localhost:8080/"
    },
    "id": "fw95Si0sKR2D",
    "outputId": "1448379e-c6d3-4255-f958-b806d84501f7"
   },
   "outputs": [
    {
     "name": "stdout",
     "output_type": "stream",
     "text": [
      "[1 2 3 4 5 6]\n",
      "[[1 2]\n",
      " [3 4]\n",
      " [5 6]\n",
      " [7 8]]\n",
      "[[1 2 5 6]\n",
      " [3 4 7 8]]\n",
      "[[1 2 5 6]\n",
      " [3 4 7 8]]\n"
     ]
    }
   ],
   "source": [
    "# create two 1D arrays\n",
    "a = np.array([1, 2, 3])\n",
    "b = np.array([4, 5, 6])\n",
    "\n",
    "# concatenate the arrays along the 0th axis (vertically)\n",
    "c = np.concatenate([a, b])\n",
    "print(c)  # prints [1 2 3 4 5 6]\n",
    "\n",
    "# create two 2D arrays\n",
    "x = np.array([[1, 2], [3, 4]])\n",
    "y = np.array([[5, 6], [7, 8]])\n",
    "\n",
    "# concatenate the arrays along the 0th axis (vertically)\n",
    "z = np.concatenate([x, y])\n",
    "print(z)  # prints [[1 2]\n",
    "          #         [3 4]\n",
    "          #         [5 6]\n",
    "          #         [7 8]]\n",
    "\n",
    "# concatenate the arrays along the 1st axis (horizontally)\n",
    "z = np.concatenate([x, y], axis=1)\n",
    "print(z)  # prints [[1 2 5 6] \n",
    "          #         [3 4 7 8]]\n",
    "\n",
    "e = np.hstack((x, y))  # horizontally stack arrays\n",
    "print(e)   # prints [[1 2 5 6] \n",
    "           #         [3 4 7 8]]"
   ]
  },
  {
   "cell_type": "markdown",
   "metadata": {
    "id": "oEnWjrmbP1sw"
   },
   "source": [
    "Firstly, we create two 1D arrays 'a' and 'b' and then concatenate the two arrays along the 0th axis (axis=0) to produce a new array 'c'. This function takes a list of arrays as input, which is why we pass [a, b] as an argument.\n",
    "\n",
    "Next, we create two 2D arrays 'x' and 'y'. We then use the 'np.concatenate()' function again to vertically stack the two arrays along the 0th axis to produce a new array 'z'. This time, we pass [x, y] as an argument to concatenate the two arrays. \n",
    "\n",
    "We then use the 'np.concatenate()' function again to horizontally stack the two arrays along the 1st axis (axis=1) to produce a new array 'z'. This time, we pass [x, y] and the argument axis=1 to concatenate the two arrays.\n",
    "\n",
    "Finally, we use the 'np.hstack()' function to horizontally stack the two arrays 'x' and 'y' to produce a new array 'e'. This function is similar to using 'np.concatenate()' with axis=1, but takes a tuple of arrays as input instead of a list."
   ]
  },
  {
   "cell_type": "markdown",
   "metadata": {
    "id": "HeAIPbwTSJET"
   },
   "source": [
    "**9. Array Operations**\n",
    "\n",
    "NumPy provides many mathematical operations for arrays, such as element-wise arithmetic, trigonometric functions, statistical functions, and linear algebra operations:"
   ]
  },
  {
   "cell_type": "code",
   "execution_count": 13,
   "metadata": {
    "colab": {
     "base_uri": "https://localhost:8080/"
    },
    "id": "IdCckAP5MAt_",
    "outputId": "b3984f84-751e-4586-d111-86775a38d629"
   },
   "outputs": [
    {
     "name": "stdout",
     "output_type": "stream",
     "text": [
      "[5 7 9]\n",
      "[0.84147098 0.90929743 0.14112001]\n",
      "5.0\n",
      "32\n"
     ]
    }
   ],
   "source": [
    "a = np.array([1, 2, 3])\n",
    "b = np.array([4, 5, 6])\n",
    "c = a + b\n",
    "d = np.sin(a)\n",
    "e = np.mean(b)\n",
    "f = np.dot(a, b)  # dot product of two arrays\n",
    "print(c)  # prints \"[5 7 9]\"\n",
    "print(d)  # prints \"[0.84147098 0.90929743 0.14112001]\"\n",
    "print(e)  # prints \"5.0\"\n",
    "print(f)  # prints \"32\""
   ]
  },
  {
   "cell_type": "markdown",
   "metadata": {
    "id": "q2EF13e4Sd-d"
   },
   "source": [
    "Here, we're adding 'a' and 'b' element-wise, taking the sine of 'a', computing the mean of 'b', and taking the dot product of 'a' and 'b'."
   ]
  },
  {
   "cell_type": "markdown",
   "metadata": {
    "id": "kQc2sbrRTjKx"
   },
   "source": [
    "These are the basic concepts of NumPy that you'll need to start working with data in Python. Once you're comfortable with these concepts, you can explore more advanced topics."
   ]
  }
 ],
 "metadata": {
  "colab": {
   "provenance": []
  },
  "kernelspec": {
   "display_name": "Python 3 (ipykernel)",
   "language": "python",
   "name": "python3"
  },
  "language_info": {
   "codemirror_mode": {
    "name": "ipython",
    "version": 3
   },
   "file_extension": ".py",
   "mimetype": "text/x-python",
   "name": "python",
   "nbconvert_exporter": "python",
   "pygments_lexer": "ipython3",
   "version": "3.10.5"
  }
 },
 "nbformat": 4,
 "nbformat_minor": 1
}
